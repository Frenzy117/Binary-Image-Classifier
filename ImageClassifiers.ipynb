{
  "cells": [
    {
      "cell_type": "code",
      "execution_count": 5,
      "id": "23da092d-a3a7-4461-ac06-3714b0d58b70",
      "metadata": {
        "id": "23da092d-a3a7-4461-ac06-3714b0d58b70"
      },
      "outputs": [],
      "source": [
        "import numpy as np\n",
        "import os\n",
        "import matplotlib.pyplot as plt\n",
        "import cv2\n",
        "from skimage.transform import resize\n",
        "from sklearn import svm\n",
        "import pickle\n",
        "from sklearn.metrics import confusion_matrix\n",
        "from sklearn.svm import SVC\n",
        "import seaborn as sns\n",
        "from collections import Counter"
      ]
    },
    {
      "cell_type": "markdown",
      "id": "kTwCAtQaHEBh",
      "metadata": {
        "id": "kTwCAtQaHEBh"
      },
      "source": [
        "In the code cell below, we load the image from the directory into a numpy array. We use Numpy here to make the computations and manipulations easier.\n",
        "We use all 3 channels of the image and flatten the resulting array to give us a 2D matrix, which will be used to compute and work with the pixel values of each image.\n",
        "We did not choose to grayscale the image since the gradients and HOG features were not significantly raising the accuracy  (accuracy was 50% = guessing). We therefore decided to just use the pixel values of each image for classification.\n",
        "This is all of the preprocessing conducted."
      ]
    },
    {
      "cell_type": "code",
      "execution_count": 2,
      "id": "fc2dcf5e-64f4-4e27-ae8c-74df60aa89a3",
      "metadata": {
        "colab": {
          "base_uri": "https://localhost:8080/",
          "height": 250
        },
        "id": "fc2dcf5e-64f4-4e27-ae8c-74df60aa89a3",
        "outputId": "5ddf36eb-15a9-41c2-dbb7-6efb874cd5dd"
      },
      "outputs": [],
      "source": [
        "dataset = []\n",
        "\n",
        "filepath = \"DCTrain/\"\n",
        "#Total classes = 2\n",
        "labels = ['dog','cat']\n",
        "for label in labels:\n",
        "  path = os.path.join(filepath, label)\n",
        "  tr_class = labels.index(label)\n",
        "  for image in os.listdir(path):\n",
        "    img_path = os.path.join(path,image)\n",
        "    img = cv2.imread(img_path,0)\n",
        "    try:\n",
        "      img = resize(img, (50,50))\n",
        "      sample = np.array(img).flatten()\n",
        "      dataset.append([sample, tr_class])\n",
        "    except Exception as e:\n",
        "      pass\n",
        "\n",
        "input = open('training.pickle','wb')\n",
        "pickle.dump(dataset, input)\n",
        "input.close()"
      ]
    },
    {
      "cell_type": "code",
      "execution_count": 3,
      "id": "7a68ede8",
      "metadata": {
        "id": "7a68ede8"
      },
      "outputs": [],
      "source": [
        "#Load features (pixel values) from the permanently stored pickle file into an array\n",
        "#Load the labels into a separate array\n",
        "out = open('training.pickle','rb')\n",
        "training_data = pickle.load(out)\n",
        "out.close()\n",
        "np.random.shuffle(training_data)\n",
        "features = []\n",
        "labels = []\n",
        "\n",
        "for feat, lab in training_data:\n",
        "    features.append(feat)\n",
        "    labels.append(lab)\n",
        "\n"
      ]
    },
    {
      "cell_type": "markdown",
      "id": "FKyECaGFH-kX",
      "metadata": {
        "id": "FKyECaGFH-kX"
      },
      "source": [
        "There are 8000 training images of both dogs and cats combined. We shuffle the images after loading them from a pickle file (for faster computation), so that there is no bias or irregular distribution of the features in the feature space, in this case, the pixel values.\n",
        "Flattening out the images and combining all the features gives us a total of 2500 features."
      ]
    },
    {
      "cell_type": "code",
      "execution_count": 7,
      "id": "50a19792",
      "metadata": {
        "colab": {
          "base_uri": "https://localhost:8080/",
          "height": 250
        },
        "id": "50a19792",
        "outputId": "e2e05fe5-b3c6-4951-db94-82a0509eb0bd"
      },
      "outputs": [
        {
          "name": "stdout",
          "output_type": "stream",
          "text": [
            "Total # of training samples:  (8005, 2500)\n",
            "Total # of training labels:  (8005,)\n",
            "Class 'dog' has 4005 samples.\n",
            "Class 'cat' has 4000 samples.\n"
          ]
        }
      ],
      "source": [
        "#Number of total pixel values, which are the features.\n",
        "print(\"Total # of training samples: \",np.array(features).shape)\n",
        "\n",
        "#Number of labels\n",
        "print(\"Total # of training labels: \", np.array(labels).shape)\n",
        "\n",
        "label_counts = Counter(labels)\n",
        "\n",
        "# Number of samples for each class\n",
        "for label, count in label_counts.items():\n",
        "    if label == 0:\n",
        "        lab = 'dog'\n",
        "    if label == 1:\n",
        "        lab = 'cat'\n",
        "    print(f\"Class '{lab}' has {count} samples.\")"
      ]
    },
    {
      "cell_type": "markdown",
      "id": "h6xMbklAIZSk",
      "metadata": {
        "id": "h6xMbklAIZSk"
      },
      "source": [
        "In the following code cell, we train our SVM classifier with a polynomial kernel.\n",
        "We use the polynomial kernel so that we can experiment and capture any non linear relationships between the pixel values, leading to multiple features.\n",
        "This is because the HOG features, the gradients, and even computing the Canny edges of the images did not provide accurate results. We therefore thought that the pixel values might have a more complex relationship with each other, especially near the areas of the faces of the animals, that the previous features could not capture.\n",
        "We use the value of C = 10 for the bias coefficient (1/B) after experimenting with different C values in the range [0.1,1,10,100] using K fold cross validation.\n",
        "This is not visible in the code since computing and printing the results of the K fold CV took an arbitrarily large amount of time (around 2-3 hours) and after the results, we came across an error which had to be fixed."
      ]
    },
    {
      "cell_type": "code",
      "execution_count": 8,
      "id": "52d9e0d6",
      "metadata": {
        "id": "52d9e0d6",
        "outputId": "4025867e-d859-4db8-80b8-e45b6209a92a"
      },
      "outputs": [
        {
          "data": {
            "text/html": [
              "<style>#sk-container-id-1 {color: black;}#sk-container-id-1 pre{padding: 0;}#sk-container-id-1 div.sk-toggleable {background-color: white;}#sk-container-id-1 label.sk-toggleable__label {cursor: pointer;display: block;width: 100%;margin-bottom: 0;padding: 0.3em;box-sizing: border-box;text-align: center;}#sk-container-id-1 label.sk-toggleable__label-arrow:before {content: \"▸\";float: left;margin-right: 0.25em;color: #696969;}#sk-container-id-1 label.sk-toggleable__label-arrow:hover:before {color: black;}#sk-container-id-1 div.sk-estimator:hover label.sk-toggleable__label-arrow:before {color: black;}#sk-container-id-1 div.sk-toggleable__content {max-height: 0;max-width: 0;overflow: hidden;text-align: left;background-color: #f0f8ff;}#sk-container-id-1 div.sk-toggleable__content pre {margin: 0.2em;color: black;border-radius: 0.25em;background-color: #f0f8ff;}#sk-container-id-1 input.sk-toggleable__control:checked~div.sk-toggleable__content {max-height: 200px;max-width: 100%;overflow: auto;}#sk-container-id-1 input.sk-toggleable__control:checked~label.sk-toggleable__label-arrow:before {content: \"▾\";}#sk-container-id-1 div.sk-estimator input.sk-toggleable__control:checked~label.sk-toggleable__label {background-color: #d4ebff;}#sk-container-id-1 div.sk-label input.sk-toggleable__control:checked~label.sk-toggleable__label {background-color: #d4ebff;}#sk-container-id-1 input.sk-hidden--visually {border: 0;clip: rect(1px 1px 1px 1px);clip: rect(1px, 1px, 1px, 1px);height: 1px;margin: -1px;overflow: hidden;padding: 0;position: absolute;width: 1px;}#sk-container-id-1 div.sk-estimator {font-family: monospace;background-color: #f0f8ff;border: 1px dotted black;border-radius: 0.25em;box-sizing: border-box;margin-bottom: 0.5em;}#sk-container-id-1 div.sk-estimator:hover {background-color: #d4ebff;}#sk-container-id-1 div.sk-parallel-item::after {content: \"\";width: 100%;border-bottom: 1px solid gray;flex-grow: 1;}#sk-container-id-1 div.sk-label:hover label.sk-toggleable__label {background-color: #d4ebff;}#sk-container-id-1 div.sk-serial::before {content: \"\";position: absolute;border-left: 1px solid gray;box-sizing: border-box;top: 0;bottom: 0;left: 50%;z-index: 0;}#sk-container-id-1 div.sk-serial {display: flex;flex-direction: column;align-items: center;background-color: white;padding-right: 0.2em;padding-left: 0.2em;position: relative;}#sk-container-id-1 div.sk-item {position: relative;z-index: 1;}#sk-container-id-1 div.sk-parallel {display: flex;align-items: stretch;justify-content: center;background-color: white;position: relative;}#sk-container-id-1 div.sk-item::before, #sk-container-id-1 div.sk-parallel-item::before {content: \"\";position: absolute;border-left: 1px solid gray;box-sizing: border-box;top: 0;bottom: 0;left: 50%;z-index: -1;}#sk-container-id-1 div.sk-parallel-item {display: flex;flex-direction: column;z-index: 1;position: relative;background-color: white;}#sk-container-id-1 div.sk-parallel-item:first-child::after {align-self: flex-end;width: 50%;}#sk-container-id-1 div.sk-parallel-item:last-child::after {align-self: flex-start;width: 50%;}#sk-container-id-1 div.sk-parallel-item:only-child::after {width: 0;}#sk-container-id-1 div.sk-dashed-wrapped {border: 1px dashed gray;margin: 0 0.4em 0.5em 0.4em;box-sizing: border-box;padding-bottom: 0.4em;background-color: white;}#sk-container-id-1 div.sk-label label {font-family: monospace;font-weight: bold;display: inline-block;line-height: 1.2em;}#sk-container-id-1 div.sk-label-container {text-align: center;}#sk-container-id-1 div.sk-container {/* jupyter's `normalize.less` sets `[hidden] { display: none; }` but bootstrap.min.css set `[hidden] { display: none !important; }` so we also need the `!important` here to be able to override the default hidden behavior on the sphinx rendered scikit-learn.org. See: https://github.com/scikit-learn/scikit-learn/issues/21755 */display: inline-block !important;position: relative;}#sk-container-id-1 div.sk-text-repr-fallback {display: none;}</style><div id=\"sk-container-id-1\" class=\"sk-top-container\"><div class=\"sk-text-repr-fallback\"><pre>SVC(C=10, gamma=0.001, kernel=&#x27;poly&#x27;)</pre><b>In a Jupyter environment, please rerun this cell to show the HTML representation or trust the notebook. <br />On GitHub, the HTML representation is unable to render, please try loading this page with nbviewer.org.</b></div><div class=\"sk-container\" hidden><div class=\"sk-item\"><div class=\"sk-estimator sk-toggleable\"><input class=\"sk-toggleable__control sk-hidden--visually\" id=\"sk-estimator-id-1\" type=\"checkbox\" checked><label for=\"sk-estimator-id-1\" class=\"sk-toggleable__label sk-toggleable__label-arrow\">SVC</label><div class=\"sk-toggleable__content\"><pre>SVC(C=10, gamma=0.001, kernel=&#x27;poly&#x27;)</pre></div></div></div></div></div>"
            ],
            "text/plain": [
              "SVC(C=10, gamma=0.001, kernel='poly')"
            ]
          },
          "execution_count": 8,
          "metadata": {},
          "output_type": "execute_result"
        }
      ],
      "source": [
        "#Initialize the classifier\n",
        "#Perform a grid search Cross Validation for the best gamma value for regularization.\n",
        "gamma = [0.001, 0.01, 0.1, 1, 10, 100]\n",
        "\n",
        "\n",
        "#Train on the first gamma value\n",
        "SVM = SVC(C=10, kernel='poly', gamma=0.001)\n",
        "SVM.fit(features, labels)\n",
        "\n",
        "\n",
        "\n"
      ]
    },
    {
      "cell_type": "markdown",
      "id": "ZKhNTSiDK62Z",
      "metadata": {
        "id": "ZKhNTSiDK62Z"
      },
      "source": [
        "We train our model using different gamma values to experiment which value gives the best accuracy with the test data."
      ]
    },
    {
      "cell_type": "code",
      "execution_count": 9,
      "id": "5c6bfc39",
      "metadata": {
        "id": "5c6bfc39",
        "outputId": "fd6421a1-38ae-4e0b-d546-51f2c8bea702"
      },
      "outputs": [
        {
          "data": {
            "text/html": [
              "<style>#sk-container-id-2 {color: black;}#sk-container-id-2 pre{padding: 0;}#sk-container-id-2 div.sk-toggleable {background-color: white;}#sk-container-id-2 label.sk-toggleable__label {cursor: pointer;display: block;width: 100%;margin-bottom: 0;padding: 0.3em;box-sizing: border-box;text-align: center;}#sk-container-id-2 label.sk-toggleable__label-arrow:before {content: \"▸\";float: left;margin-right: 0.25em;color: #696969;}#sk-container-id-2 label.sk-toggleable__label-arrow:hover:before {color: black;}#sk-container-id-2 div.sk-estimator:hover label.sk-toggleable__label-arrow:before {color: black;}#sk-container-id-2 div.sk-toggleable__content {max-height: 0;max-width: 0;overflow: hidden;text-align: left;background-color: #f0f8ff;}#sk-container-id-2 div.sk-toggleable__content pre {margin: 0.2em;color: black;border-radius: 0.25em;background-color: #f0f8ff;}#sk-container-id-2 input.sk-toggleable__control:checked~div.sk-toggleable__content {max-height: 200px;max-width: 100%;overflow: auto;}#sk-container-id-2 input.sk-toggleable__control:checked~label.sk-toggleable__label-arrow:before {content: \"▾\";}#sk-container-id-2 div.sk-estimator input.sk-toggleable__control:checked~label.sk-toggleable__label {background-color: #d4ebff;}#sk-container-id-2 div.sk-label input.sk-toggleable__control:checked~label.sk-toggleable__label {background-color: #d4ebff;}#sk-container-id-2 input.sk-hidden--visually {border: 0;clip: rect(1px 1px 1px 1px);clip: rect(1px, 1px, 1px, 1px);height: 1px;margin: -1px;overflow: hidden;padding: 0;position: absolute;width: 1px;}#sk-container-id-2 div.sk-estimator {font-family: monospace;background-color: #f0f8ff;border: 1px dotted black;border-radius: 0.25em;box-sizing: border-box;margin-bottom: 0.5em;}#sk-container-id-2 div.sk-estimator:hover {background-color: #d4ebff;}#sk-container-id-2 div.sk-parallel-item::after {content: \"\";width: 100%;border-bottom: 1px solid gray;flex-grow: 1;}#sk-container-id-2 div.sk-label:hover label.sk-toggleable__label {background-color: #d4ebff;}#sk-container-id-2 div.sk-serial::before {content: \"\";position: absolute;border-left: 1px solid gray;box-sizing: border-box;top: 0;bottom: 0;left: 50%;z-index: 0;}#sk-container-id-2 div.sk-serial {display: flex;flex-direction: column;align-items: center;background-color: white;padding-right: 0.2em;padding-left: 0.2em;position: relative;}#sk-container-id-2 div.sk-item {position: relative;z-index: 1;}#sk-container-id-2 div.sk-parallel {display: flex;align-items: stretch;justify-content: center;background-color: white;position: relative;}#sk-container-id-2 div.sk-item::before, #sk-container-id-2 div.sk-parallel-item::before {content: \"\";position: absolute;border-left: 1px solid gray;box-sizing: border-box;top: 0;bottom: 0;left: 50%;z-index: -1;}#sk-container-id-2 div.sk-parallel-item {display: flex;flex-direction: column;z-index: 1;position: relative;background-color: white;}#sk-container-id-2 div.sk-parallel-item:first-child::after {align-self: flex-end;width: 50%;}#sk-container-id-2 div.sk-parallel-item:last-child::after {align-self: flex-start;width: 50%;}#sk-container-id-2 div.sk-parallel-item:only-child::after {width: 0;}#sk-container-id-2 div.sk-dashed-wrapped {border: 1px dashed gray;margin: 0 0.4em 0.5em 0.4em;box-sizing: border-box;padding-bottom: 0.4em;background-color: white;}#sk-container-id-2 div.sk-label label {font-family: monospace;font-weight: bold;display: inline-block;line-height: 1.2em;}#sk-container-id-2 div.sk-label-container {text-align: center;}#sk-container-id-2 div.sk-container {/* jupyter's `normalize.less` sets `[hidden] { display: none; }` but bootstrap.min.css set `[hidden] { display: none !important; }` so we also need the `!important` here to be able to override the default hidden behavior on the sphinx rendered scikit-learn.org. See: https://github.com/scikit-learn/scikit-learn/issues/21755 */display: inline-block !important;position: relative;}#sk-container-id-2 div.sk-text-repr-fallback {display: none;}</style><div id=\"sk-container-id-2\" class=\"sk-top-container\"><div class=\"sk-text-repr-fallback\"><pre>SVC(C=10, gamma=0.01, kernel=&#x27;poly&#x27;)</pre><b>In a Jupyter environment, please rerun this cell to show the HTML representation or trust the notebook. <br />On GitHub, the HTML representation is unable to render, please try loading this page with nbviewer.org.</b></div><div class=\"sk-container\" hidden><div class=\"sk-item\"><div class=\"sk-estimator sk-toggleable\"><input class=\"sk-toggleable__control sk-hidden--visually\" id=\"sk-estimator-id-2\" type=\"checkbox\" checked><label for=\"sk-estimator-id-2\" class=\"sk-toggleable__label sk-toggleable__label-arrow\">SVC</label><div class=\"sk-toggleable__content\"><pre>SVC(C=10, gamma=0.01, kernel=&#x27;poly&#x27;)</pre></div></div></div></div></div>"
            ],
            "text/plain": [
              "SVC(C=10, gamma=0.01, kernel='poly')"
            ]
          },
          "execution_count": 9,
          "metadata": {},
          "output_type": "execute_result"
        }
      ],
      "source": [
        "#Train on the second gamma value\n",
        "SVM2 = SVC(C=10, kernel='poly', gamma=0.01)\n",
        "SVM2.fit(features, labels)"
      ]
    },
    {
      "cell_type": "code",
      "execution_count": 10,
      "id": "e75f2c04",
      "metadata": {
        "id": "e75f2c04",
        "outputId": "1ab98891-8f78-408a-b677-c6da35854051"
      },
      "outputs": [
        {
          "data": {
            "text/html": [
              "<style>#sk-container-id-3 {color: black;}#sk-container-id-3 pre{padding: 0;}#sk-container-id-3 div.sk-toggleable {background-color: white;}#sk-container-id-3 label.sk-toggleable__label {cursor: pointer;display: block;width: 100%;margin-bottom: 0;padding: 0.3em;box-sizing: border-box;text-align: center;}#sk-container-id-3 label.sk-toggleable__label-arrow:before {content: \"▸\";float: left;margin-right: 0.25em;color: #696969;}#sk-container-id-3 label.sk-toggleable__label-arrow:hover:before {color: black;}#sk-container-id-3 div.sk-estimator:hover label.sk-toggleable__label-arrow:before {color: black;}#sk-container-id-3 div.sk-toggleable__content {max-height: 0;max-width: 0;overflow: hidden;text-align: left;background-color: #f0f8ff;}#sk-container-id-3 div.sk-toggleable__content pre {margin: 0.2em;color: black;border-radius: 0.25em;background-color: #f0f8ff;}#sk-container-id-3 input.sk-toggleable__control:checked~div.sk-toggleable__content {max-height: 200px;max-width: 100%;overflow: auto;}#sk-container-id-3 input.sk-toggleable__control:checked~label.sk-toggleable__label-arrow:before {content: \"▾\";}#sk-container-id-3 div.sk-estimator input.sk-toggleable__control:checked~label.sk-toggleable__label {background-color: #d4ebff;}#sk-container-id-3 div.sk-label input.sk-toggleable__control:checked~label.sk-toggleable__label {background-color: #d4ebff;}#sk-container-id-3 input.sk-hidden--visually {border: 0;clip: rect(1px 1px 1px 1px);clip: rect(1px, 1px, 1px, 1px);height: 1px;margin: -1px;overflow: hidden;padding: 0;position: absolute;width: 1px;}#sk-container-id-3 div.sk-estimator {font-family: monospace;background-color: #f0f8ff;border: 1px dotted black;border-radius: 0.25em;box-sizing: border-box;margin-bottom: 0.5em;}#sk-container-id-3 div.sk-estimator:hover {background-color: #d4ebff;}#sk-container-id-3 div.sk-parallel-item::after {content: \"\";width: 100%;border-bottom: 1px solid gray;flex-grow: 1;}#sk-container-id-3 div.sk-label:hover label.sk-toggleable__label {background-color: #d4ebff;}#sk-container-id-3 div.sk-serial::before {content: \"\";position: absolute;border-left: 1px solid gray;box-sizing: border-box;top: 0;bottom: 0;left: 50%;z-index: 0;}#sk-container-id-3 div.sk-serial {display: flex;flex-direction: column;align-items: center;background-color: white;padding-right: 0.2em;padding-left: 0.2em;position: relative;}#sk-container-id-3 div.sk-item {position: relative;z-index: 1;}#sk-container-id-3 div.sk-parallel {display: flex;align-items: stretch;justify-content: center;background-color: white;position: relative;}#sk-container-id-3 div.sk-item::before, #sk-container-id-3 div.sk-parallel-item::before {content: \"\";position: absolute;border-left: 1px solid gray;box-sizing: border-box;top: 0;bottom: 0;left: 50%;z-index: -1;}#sk-container-id-3 div.sk-parallel-item {display: flex;flex-direction: column;z-index: 1;position: relative;background-color: white;}#sk-container-id-3 div.sk-parallel-item:first-child::after {align-self: flex-end;width: 50%;}#sk-container-id-3 div.sk-parallel-item:last-child::after {align-self: flex-start;width: 50%;}#sk-container-id-3 div.sk-parallel-item:only-child::after {width: 0;}#sk-container-id-3 div.sk-dashed-wrapped {border: 1px dashed gray;margin: 0 0.4em 0.5em 0.4em;box-sizing: border-box;padding-bottom: 0.4em;background-color: white;}#sk-container-id-3 div.sk-label label {font-family: monospace;font-weight: bold;display: inline-block;line-height: 1.2em;}#sk-container-id-3 div.sk-label-container {text-align: center;}#sk-container-id-3 div.sk-container {/* jupyter's `normalize.less` sets `[hidden] { display: none; }` but bootstrap.min.css set `[hidden] { display: none !important; }` so we also need the `!important` here to be able to override the default hidden behavior on the sphinx rendered scikit-learn.org. See: https://github.com/scikit-learn/scikit-learn/issues/21755 */display: inline-block !important;position: relative;}#sk-container-id-3 div.sk-text-repr-fallback {display: none;}</style><div id=\"sk-container-id-3\" class=\"sk-top-container\"><div class=\"sk-text-repr-fallback\"><pre>SVC(C=10, gamma=0.1, kernel=&#x27;poly&#x27;)</pre><b>In a Jupyter environment, please rerun this cell to show the HTML representation or trust the notebook. <br />On GitHub, the HTML representation is unable to render, please try loading this page with nbviewer.org.</b></div><div class=\"sk-container\" hidden><div class=\"sk-item\"><div class=\"sk-estimator sk-toggleable\"><input class=\"sk-toggleable__control sk-hidden--visually\" id=\"sk-estimator-id-3\" type=\"checkbox\" checked><label for=\"sk-estimator-id-3\" class=\"sk-toggleable__label sk-toggleable__label-arrow\">SVC</label><div class=\"sk-toggleable__content\"><pre>SVC(C=10, gamma=0.1, kernel=&#x27;poly&#x27;)</pre></div></div></div></div></div>"
            ],
            "text/plain": [
              "SVC(C=10, gamma=0.1, kernel='poly')"
            ]
          },
          "execution_count": 10,
          "metadata": {},
          "output_type": "execute_result"
        }
      ],
      "source": [
        "#Train on the 3rd gamma value\n",
        "SVM3 = SVC(C=10, kernel='poly', gamma=0.1)\n",
        "SVM3.fit(features, labels)"
      ]
    },
    {
      "cell_type": "markdown",
      "id": "qX0lMBJuLG4N",
      "metadata": {
        "id": "qX0lMBJuLG4N"
      },
      "source": [
        "We now load our test data from the directory into the numpy array, similar to the approach for the training data."
      ]
    },
    {
      "cell_type": "code",
      "execution_count": 12,
      "id": "3e44649a",
      "metadata": {
        "id": "3e44649a",
        "outputId": "88ce3729-8abb-419e-c360-d779e3809b0d"
      },
      "outputs": [
        {
          "name": "stdout",
          "output_type": "stream",
          "text": [
            "2023\n"
          ]
        }
      ],
      "source": [
        "test_dataset = []\n",
        "#Load the test images and store them in a numpy array for easier manipulation\n",
        "filepath = \"DCTest/\"\n",
        "tlabels = ['dog','cat']\n",
        "for label in tlabels:\n",
        "  path = os.path.join(filepath, label)\n",
        "  tr_class = tlabels.index(label)\n",
        "  for image in os.listdir(path):\n",
        "    img_path = os.path.join(path,image)\n",
        "    img = cv2.imread(img_path,0)\n",
        "    try:\n",
        "      img = resize(img, (50,50))\n",
        "      sample = np.array(img).flatten()\n",
        "      test_dataset.append([sample, tr_class])\n",
        "    except Exception as e:\n",
        "      pass\n",
        "\n",
        "#Total images/ samples\n",
        "print(len(test_dataset))\n",
        "pick_in2 = open('test.pickle','wb')\n",
        "pickle.dump(test_dataset, pick_in2)\n",
        "pick_in2.close()"
      ]
    },
    {
      "cell_type": "markdown",
      "id": "AhqLU1mzLP6f",
      "metadata": {
        "id": "AhqLU1mzLP6f"
      },
      "source": [
        "There are a total of 2023 images of both dogs and cats combined. All these images are again shuffled to provide better distrubution and to not lead to any bias."
      ]
    },
    {
      "cell_type": "code",
      "execution_count": 13,
      "id": "ee28c3c3",
      "metadata": {
        "id": "ee28c3c3"
      },
      "outputs": [
        {
          "name": "stdout",
          "output_type": "stream",
          "text": [
            "Class 'dog' has 1012 samples.\n",
            "Class 'cat' has 1011 samples.\n"
          ]
        }
      ],
      "source": [
        "#Separate the features and labels into separate arrays\n",
        "pick_in2 = open('test.pickle','rb')\n",
        "test_data = pickle.load(pick_in2)\n",
        "pick_in2.close()\n",
        "np.random.shuffle(test_data)\n",
        "features_test = []\n",
        "labels_test = []\n",
        "\n",
        "for feat, lab in test_data:\n",
        "    features_test.append(feat)\n",
        "    labels_test.append(lab)\n",
        "\n",
        "label_counts = Counter(labels_test)\n",
        "\n",
        "# Number of samples for each class\n",
        "for label, count in label_counts.items():\n",
        "    if label == 0:\n",
        "        lab = 'dog'\n",
        "    if label == 1:\n",
        "        lab = 'cat'\n",
        "    print(f\"Class '{lab}' has {count} samples.\")"
      ]
    },
    {
      "cell_type": "markdown",
      "id": "dMiNW17WLZyL",
      "metadata": {
        "id": "dMiNW17WLZyL"
      },
      "source": [
        "We now test each of our models with the different gamma values and see which model gives the best accuracy. To visualize the performance, we plot the confusion matrix for each model and evaluate how many correct and incorrect classifications were made.\n",
        "We also calculate the accuracy of our model.\n",
        "As a result we see that the model that has been trained with C = 10, and gamma = 0.001, provides the greatest accuracy of 62.38%"
      ]
    },
    {
      "cell_type": "code",
      "execution_count": 14,
      "id": "de432b43",
      "metadata": {
        "id": "de432b43",
        "outputId": "f6a95e22-22f7-4a2c-f30c-090f99a27f4b"
      },
      "outputs": [
        {
          "name": "stdout",
          "output_type": "stream",
          "text": [
            "Accuracy =  0.6238260009886307\n"
          ]
        },
        {
          "data": {
            "image/png": "[encoded data removed]",
            "text/plain": [
              "<Figure size 800x600 with 2 Axes>"
            ]
          },
          "metadata": {},
          "output_type": "display_data"
        }
      ],
      "source": [
        "#Test the first gamma value trained model (gamma = 0.001)\n",
        "pred1 = SVM.predict(features_test)\n",
        "\n",
        "#Find the accuracy for the test data\n",
        "accuracy = SVM.score(features_test, labels_test)\n",
        "print(\"Accuracy = \",accuracy)\n",
        "\n",
        "cm = confusion_matrix(labels_test, pred1)\n",
        "\n",
        "# Set up the labels for the matrix\n",
        "classes = ['Cat', 'Dog']\n",
        "\n",
        "# Plot the confusion matrix\n",
        "plt.figure(figsize=(8, 6))\n",
        "sns.heatmap(cm, annot=True, fmt=\"d\", cmap=\"Blues\", xticklabels=classes, yticklabels=classes)\n",
        "plt.title('Confusion Matrix')\n",
        "plt.xlabel('Predicted')\n",
        "plt.ylabel('True')\n",
        "plt.show()"
      ]
    },
    {
      "cell_type": "code",
      "execution_count": 15,
      "id": "5558e6fa",
      "metadata": {
        "id": "5558e6fa",
        "outputId": "75079058-440b-4080-c428-3b4233f386f6"
      },
      "outputs": [
        {
          "name": "stdout",
          "output_type": "stream",
          "text": [
            "Accuracy =  0.6109738012852199\n"
          ]
        },
        {
          "data": {
            "image/png": "[encoded data removed]",
            "text/plain": [
              "<Figure size 800x600 with 2 Axes>"
            ]
          },
          "metadata": {},
          "output_type": "display_data"
        }
      ],
      "source": [
        "#Test the second gamma value trained model (gamma = 0.01)\n",
        "pred2 = SVM2.predict(features_test)\n",
        "\n",
        "#Find the accuracy for the test data\n",
        "accuracy = SVM2.score(features_test, labels_test)\n",
        "print(\"Accuracy = \",accuracy)\n",
        "\n",
        "cm = confusion_matrix(labels_test, pred2)\n",
        "\n",
        "# Set up the labels for the matrix\n",
        "classes = ['Cat', 'Dog']\n",
        "\n",
        "# Plot the confusion matrix\n",
        "plt.figure(figsize=(8, 6))\n",
        "sns.heatmap(cm, annot=True, fmt=\"d\", cmap=\"Blues\", xticklabels=classes, yticklabels=classes)\n",
        "plt.title('Confusion Matrix')\n",
        "plt.xlabel('Predicted')\n",
        "plt.ylabel('True')\n",
        "plt.show()"
      ]
    },
    {
      "cell_type": "code",
      "execution_count": 16,
      "id": "ec4b122b",
      "metadata": {
        "id": "ec4b122b",
        "outputId": "9a868f4a-b007-4acd-965c-16e2c1c5ff22"
      },
      "outputs": [
        {
          "name": "stdout",
          "output_type": "stream",
          "text": [
            "Accuracy =  0.6089965397923875\n"
          ]
        },
        {
          "data": {
            "image/png": "[encoded data removed]",
            "text/plain": [
              "<Figure size 800x600 with 2 Axes>"
            ]
          },
          "metadata": {},
          "output_type": "display_data"
        }
      ],
      "source": [
        "#Test the third gamma value trained model (gamma = 0.1)\n",
        "pred3 = SVM3.predict(features_test)\n",
        "\n",
        "#Find the accuracy for the test data\n",
        "accuracy = SVM3.score(features_test, labels_test)\n",
        "print(\"Accuracy = \",accuracy)\n",
        "\n",
        "cm = confusion_matrix(labels_test, pred3)\n",
        "\n",
        "# Set up the labels for the Confusion matrix\n",
        "classes = ['Cat', 'Dog']\n",
        "\n",
        "#Plot the confusion matrix\n",
        "plt.figure(figsize=(8, 6))\n",
        "sns.heatmap(cm, annot=True, fmt=\"d\", cmap=\"Blues\", xticklabels=classes, yticklabels=classes)\n",
        "plt.title('Confusion Matrix')\n",
        "plt.xlabel('Predicted')\n",
        "plt.ylabel('True')\n",
        "plt.show()"
      ]
    },
    {
      "cell_type": "markdown",
      "id": "64616e5d",
      "metadata": {},
      "source": [
        "Some of the ethical issues that can arise from the practices and processes of this model are as follows:\n",
        "1. The model may be biased towards a specific color, hence breed of dogs and cats. It might classify dogs of a certain color as cats based on the previous learned features from cats of the same color. This may lead to discrimination against dogs and/or cats of a certain color, and in turn their breed. This may cause reduced attention towards animals on the other end of the classification who were not correctly classifier, when it comes to using the model for medical industry or other cares. "
      ]
    },
    {
      "cell_type": "markdown",
      "id": "vYd_hIWvMZPw",
      "metadata": {
        "id": "vYd_hIWvMZPw"
      },
      "source": [
        "**Bibliography**\n",
        "\n",
        "For information on Scikit learn's SVM module, its parameters, and how to implement grid search using different C and gamma values. \n",
        "https://scikit-learn.org/stable/modules/svm.html#:~:text=Support%20vector%20machines%20(SVMs)%20are,Effective%20in%20high%20dimensional%20spaces.\n",
        "\n",
        "For information on when to use SVM vs SVC:\n",
        "https://rutgers.instructure.com/courses/243699/files?preview=36000051\n",
        "\n",
        "For Python syntax and SVM clarifications:\n",
        "https://chat.openai.com/"
      ]
    }
  ],
  "metadata": {
    "colab": {
      "provenance": []
    },
    "kernelspec": {
      "display_name": "Python 3 (ipykernel)",
      "language": "python",
      "name": "python3"
    },
    "language_info": {
      "codemirror_mode": {
        "name": "ipython",
        "version": 3
      },
      "file_extension": ".py",
      "mimetype": "text/x-python",
      "name": "python",
      "nbconvert_exporter": "python",
      "pygments_lexer": "ipython3",
      "version": "3.11.3"
    }
  },
  "nbformat": 4,
  "nbformat_minor": 5
}
